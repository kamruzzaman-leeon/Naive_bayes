{
 "cells": [
  {
   "cell_type": "code",
   "execution_count": 78,
   "metadata": {
    "pycharm": {
     "name": "#%%\n"
    }
   },
   "outputs": [],
   "source": [
    "import csv\n",
    "reader = csv.DictReader(open('data.csv'))\n",
    "data=[]\n",
    "for line in reader:\n",
    "        data.append(line)\n",
    "        \n",
    "# data\n",
    "# TotalNumOfData=len(data)\n",
    "# TotalNumOfData"
   ]
  },
  {
   "cell_type": "code",
   "execution_count": 47,
   "metadata": {
    "pycharm": {
     "name": "#%%\n"
    }
   },
   "outputs": [
    {
     "name": "stdout",
     "output_type": "stream",
     "text": [
      "Total value of Deciding Factor:  10\n",
      "Value of Positive: 5\n",
      "Value of Negative: 5\n",
      "Probability Of Positive:  0.5\n",
      "Probability Of Negative:  0.5\n"
     ]
    }
   ],
   "source": [
    "#Find the unique attrbute value and Total value of deciding factor\n",
    "\n",
    "CountPositive,CountNegative=0,0\n",
    "\n",
    "for i in data:\n",
    "    if i.get('covid-19')=='positive':\n",
    "        CountPositive +=1\n",
    "    elif i.get('covid-19')=='negative':\n",
    "        CountNegative +=1\n",
    "\n",
    "ValueOfPositive = CountPositive\n",
    "ValueOfNegative = CountNegative\n",
    "\n",
    "TotalValueOfDecidingFactor = ValueOfPositive + ValueOfNegative\n",
    " \n",
    "ProbabilityOfPositive = ValueOfPositive/TotalValueOfDecidingFactor\n",
    "ProbabilityOfNegative = ValueOfNegative/TotalValueOfDecidingFactor\n",
    "\n",
    "\n",
    "print('Total value of Deciding Factor: ',TotalValueOfDecidingFactor)\n",
    "print('Value of Positive:',ValueOfPositive)\n",
    "print('Value of Negative:',ValueOfNegative)\n",
    "\n",
    "print('Probability Of Positive: ' ,ProbabilityOfPositive)\n",
    "\n",
    "print('Probability Of Negative: ',ProbabilityOfNegative)"
   ]
  },
  {
   "cell_type": "code",
   "execution_count": 48,
   "metadata": {},
   "outputs": [
    {
     "name": "stdout",
     "output_type": "stream",
     "text": [
      "Dry Cough Positive:  2 \t Probability of Dry Cough Positive:  0.4\n",
      "Dry Cough Negative:  2 \t Probability of Dry Cough Negative:  0.4\n",
      "Wet Cough Positive:  1 \t Probability of Wet Cough Positive:  0.2\n",
      "Wet Cough Negative:  2 \t Probability of Wet Cough Negative:  0.4\n",
      "No Cough Positive:  2 \t Probability of No Cough Positive:  0.4\n",
      "No Cough Negative:  1 \t Probability of No Cough Negative:  0.2\n"
     ]
    }
   ],
   "source": [
    "#cough\n",
    "dryCoughPositive,dryCoughNegative,wetCoughPositive,wetCoughNegative, noCoughPositive,noCoughNegative=0,0,0,0,0,0\n",
    "for x in data:\n",
    "    if x.get('cough') =='dry'and x.get('covid-19') =='positive':\n",
    "        dryCoughPositive += 1\n",
    "    elif x.get('cough') =='dry'and x.get('covid-19') =='negative':\n",
    "        dryCoughNegative += 1\n",
    "    elif x.get('cough') =='wet'and x.get('covid-19') =='positive':\n",
    "        wetCoughPositive += 1\n",
    "    elif x.get('cough') =='wet'and x.get('covid-19') =='negative':\n",
    "        wetCoughNegative += 1\n",
    "    elif x.get('cough') =='no'and x.get('covid-19') =='positive':\n",
    "        noCoughPositive += 1\n",
    "    elif x.get('cough') =='no'and x.get('covid-19') =='negative':\n",
    "        noCoughNegative += 1\n",
    "        \n",
    "probabilityOfdryCoughPositive = dryCoughPositive/ValueOfPositive\n",
    "print('Dry Cough Positive: ',dryCoughPositive,'\\t','Probability of Dry Cough Positive: ',probabilityOfdryCoughPositive)\n",
    "\n",
    "probabilityOfdryCoughNegative = dryCoughNegative/ValueOfNegative\n",
    "print('Dry Cough Negative: ',dryCoughNegative,'\\t','Probability of Dry Cough Negative: ',probabilityOfdryCoughNegative)\n",
    "\n",
    "probabilityOfwetCoughPositive = wetCoughPositive/ValueOfPositive\n",
    "print('Wet Cough Positive: ',wetCoughPositive,'\\t','Probability of Wet Cough Positive: ',probabilityOfwetCoughPositive)\n",
    "\n",
    "probabilityOfwetCoughNegative = wetCoughNegative/ValueOfNegative\n",
    "print('Wet Cough Negative: ',wetCoughNegative,'\\t','Probability of Wet Cough Negative: ',probabilityOfwetCoughNegative)\n",
    "\n",
    "probabilityOfnoCoughPositive = noCoughPositive/ValueOfPositive\n",
    "print('No Cough Positive: ',noCoughPositive,'\\t','Probability of No Cough Positive: ',probabilityOfnoCoughPositive)\n",
    "\n",
    "probabilityOfnoCoughNegative = noCoughNegative/ValueOfNegative\n",
    "print('No Cough Negative: ',noCoughNegative,'\\t','Probability of No Cough Negative: ',probabilityOfnoCoughNegative)"
   ]
  },
  {
   "cell_type": "code",
   "execution_count": 49,
   "metadata": {},
   "outputs": [
    {
     "name": "stdout",
     "output_type": "stream",
     "text": [
      "Severe tiredness Positive:  2 \t Probability of Severe tiredness Positive:  0.4\n",
      "Severe tiredness Negative:  2 \t Probability of Severe tiredness Negative:  0.4\n",
      "Slight tiredness Positive:  2 \t Probability of Slight tiredness Positive:  0.4\n",
      "Slight tiredness Negative:  3 \t Probability of Slight tiredness Negative:  0.6\n",
      "No tiredness Positive:  1 \t Probability of No tiredness Positive:  0.2\n",
      "No tiredness Negative:  0 \t Probability of No tiredness Negative:  0.0\n"
     ]
    }
   ],
   "source": [
    "#tiredness\n",
    "SevereTirednessPositive,SevereTirednessNegative,SlightTirednessPositive,SlightTirednessNegative, NoTirednessPositive,NoTirednessNegative=0,0,0,0,0,0\n",
    "for x in data:\n",
    "    if x.get('tiredness') =='severe'and x.get('covid-19') =='positive':\n",
    "        SevereTirednessPositive += 1\n",
    "    elif x.get('tiredness') =='severe'and x.get('covid-19') =='negative':\n",
    "        SevereTirednessNegative += 1\n",
    "    elif x.get('tiredness') =='slight'and x.get('covid-19') =='positive':\n",
    "        SlightTirednessPositive += 1\n",
    "    elif x.get('tiredness') =='slight'and x.get('covid-19') =='negative':\n",
    "        SlightTirednessNegative += 1\n",
    "    elif x.get('tiredness') =='no'and x.get('covid-19') =='positive':\n",
    "        NoTirednessPositive += 1\n",
    "    elif x.get('tiredness') =='no'and x.get('covid-19') =='negative':\n",
    "        NoTirednessNegative += 1\n",
    "        \n",
    "probabilityOfSevereTirednessPositive = SevereTirednessPositive/ValueOfPositive\n",
    "print('Severe tiredness Positive: ',SevereTirednessPositive,'\\t','Probability of Severe tiredness Positive: ',probabilityOfSevereTirednessPositive)\n",
    "\n",
    "probabilityOfSevereTirednessNegative = SevereTirednessNegative/ValueOfNegative\n",
    "print('Severe tiredness Negative: ',SevereTirednessNegative,'\\t','Probability of Severe tiredness Negative: ',probabilityOfSevereTirednessNegative)\n",
    "\n",
    "probabilityOfSlightTirednessPositive = SlightTirednessPositive/ValueOfPositive\n",
    "print('Slight tiredness Positive: ',SlightTirednessPositive,'\\t','Probability of Slight tiredness Positive: ',probabilityOfSlightTirednessPositive)\n",
    "\n",
    "probabilityOfSlightTirednessNegative = SlightTirednessNegative/ValueOfNegative\n",
    "print('Slight tiredness Negative: ',SlightTirednessNegative,'\\t','Probability of Slight tiredness Negative: ',probabilityOfSlightTirednessNegative)\n",
    "\n",
    "probabilityOfNoTirednessPositive = NoTirednessPositive/ValueOfPositive\n",
    "print('No tiredness Positive: ',NoTirednessPositive,'\\t','Probability of No tiredness Positive: ',probabilityOfNoTirednessPositive)\n",
    "\n",
    "probabilityOfNoTirednessNegative = NoTirednessNegative/ValueOfNegative\n",
    "print('No tiredness Negative: ',NoTirednessNegative,'\\t','Probability of No tiredness Negative: ',probabilityOfNoTirednessNegative)"
   ]
  },
  {
   "cell_type": "code",
   "execution_count": 86,
   "metadata": {
    "pycharm": {
     "name": "#%%\n"
    }
   },
   "outputs": [],
   "source": [
    "##temperature\n",
    "## 1st [0-95]\n",
    "## 2nd [95.1-98]\n",
    "## 3rd [98.1-101]\n",
    "## 4th [101.1-104]\n",
    "## 5th [104.1-infinity]\n",
    "# temp1stPositive,temp1stNegative,ProbabilityOftemp1stPositive,ProbabilityOftemp1stNegative=0,0,0,0\n",
    "# temp2ndPositive,temp2ndNegative,ProbabilityOftemp2ndPositive,ProbabilityOftemp2ndNegative=0,0,0,0\n",
    "# temp3rdPositive,temp3rdNegative,ProbabilityOftemp3rdPositive,ProbabilityOftemp3rdNegative=0,0,0,0\n",
    "# temp4thPositive,temp4thNegative,ProbabilityOftemp4thPositive,ProbabilityOftemp4thNegative=0,0,0,0\n",
    "# temp5thPositive,temp5thNegative,ProbabilityOftemp5thPositive,ProbabilityOftemp5thNegative=0,0,0,0\n",
    "# for x in data:  \n",
    "#     if 0<= x.get('tempareture') <= 95:\n",
    "#         if x.get('covid-19') =='positive':\n",
    "#             temp1stPositive += 1\n",
    "#         elif x.get('covid-19')=='negative':\n",
    "#             temp1stNegative += 1\n",
    "\n",
    "    # elif 95.1 <= float(x.get('temperature')) <= 98:\n",
    "    #     if x.get('covid-19') =='positive':\n",
    "    #         temp2ndPositive += 1\n",
    "    #     elif x.get('covid-19')=='negative':\n",
    "    #         temp2ndNegative += 1\n",
    "\n",
    "    # elif x.get('temperature')>=98.1 and x.get('temperature') <= 101:\n",
    "    #     if x.get('covid-19') =='positive':\n",
    "    #         temp3rdPositive += 1\n",
    "    #     elif x.get('covid-19')=='negative':\n",
    "    #         temp3rdNegative += 1\n",
    "    #\n",
    "    # elif x.get('temperature')>=101.1 and x.get('temperature') <= 104:\n",
    "    #     if x.get('covid-19') =='positive':\n",
    "    #         temp4thPositive += 1\n",
    "    #     elif x.get('covid-19')=='negative':\n",
    "    #         temp4thNegative += 1\n",
    "    #\n",
    "    # elif x.get('temperature')>=104.1:\n",
    "    #     if x.get('covid-19') =='positive':\n",
    "    #         temp5thPositive += 1\n",
    "    #     elif x.get('covid-19')=='negative':\n",
    "    #         temp5thNegative += 1\n",
    "\n",
    "# ProbabilityOftemp1stPositive = temp1stPositive/ValueOfPositive\n",
    "# print('Postive on [0-95]: ',temp1stPositive,'Probability of Positive on [0-95]: ',ProbabilityOftemp1stPositive)"
   ]
  },
  {
   "cell_type": "code",
   "execution_count": null,
   "metadata": {},
   "outputs": [],
   "source": []
  }
 ],
 "metadata": {
  "kernelspec": {
   "display_name": "Python 3",
   "language": "python",
   "name": "python3"
  },
  "language_info": {
   "codemirror_mode": {
    "name": "ipython",
    "version": 3
   },
   "file_extension": ".py",
   "mimetype": "text/x-python",
   "name": "python",
   "nbconvert_exporter": "python",
   "pygments_lexer": "ipython3",
   "version": "3.7.9"
  }
 },
 "nbformat": 4,
 "nbformat_minor": 1
}